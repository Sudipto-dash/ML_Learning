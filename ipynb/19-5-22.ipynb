{
 "cells": [
  {
   "cell_type": "markdown",
   "metadata": {},
   "source": [
    "**Vulture Will Find All unused code**\n",
    "To ignore names or specific terms we command the vulture like this:\n",
    "    vulture filename.py --ignore-names var*\n",
    "We can make a white list too\n",
    "    Make a FileSome.py file and import the file want to run vulture \"from filename import function name\"\n",
    "    then in Vulture command:\n",
    "    vulture filename.py FileSome.py --ignore-names var* \n",
    "What is the percentage of confidence unnused, we can filter that and say vulture to bring those codes:\n",
    "    **vulture filename.py FileSome.py --min-confidence 90**\n",
    "Here 90% confidence vulture code will show Up"
   ]
  },
  {
   "cell_type": "code",
   "execution_count": 8,
   "metadata": {},
   "outputs": [
    {
     "data": {
      "text/plain": [
       "12"
      ]
     },
     "execution_count": 8,
     "metadata": {},
     "output_type": "execute_result"
    }
   ],
   "source": [
    "import os\n",
    "var_unused = \"I am Useless\"\n",
    "class Useless:\n",
    "    def __init__(self,Used):\n",
    "        self.NeedMe = Used\n",
    "    def GetMe(self):\n",
    "        return self.NeedMe\n",
    "\n",
    "o1 = Useless(12)\n",
    "o1.GetMe()\n"
   ]
  },
  {
   "cell_type": "markdown",
   "metadata": {},
   "source": [
    "**ZIP FUNCITON**"
   ]
  },
  {
   "cell_type": "code",
   "execution_count": 2,
   "metadata": {},
   "outputs": [],
   "source": [
    "li=[\"A\",\"B\",\"c\"]\n",
    "li2=[\"1\",\"2\",\"3\"]\n",
    "out = zip (li,li2) #Zip funciton takes iterators Works in parallel iterators\n",
    "#list(out)"
   ]
  },
  {
   "cell_type": "code",
   "execution_count": 5,
   "metadata": {},
   "outputs": [
    {
     "data": {
      "text/plain": [
       "('c', '3')"
      ]
     },
     "execution_count": 5,
     "metadata": {},
     "output_type": "execute_result"
    }
   ],
   "source": [
    "next(out) #Will show the next output when the list is empty it will Error to StopIteratoin"
   ]
  },
  {
   "cell_type": "code",
   "execution_count": 46,
   "metadata": {},
   "outputs": [
    {
     "name": "stdout",
     "output_type": "stream",
     "text": [
      "('A', '1')\n",
      "('B', '2')\n",
      "('c', '3')\n"
     ]
    }
   ],
   "source": [
    "out = zip (li,li2) \n",
    "for i in out:\n",
    "    print(i)  #it will Show the list of two tuples from two lists"
   ]
  },
  {
   "cell_type": "code",
   "execution_count": 48,
   "metadata": {},
   "outputs": [
    {
     "name": "stdout",
     "output_type": "stream",
     "text": [
      "A 1 505\n",
      "B 2 404\n",
      "c 3 8086\n"
     ]
    }
   ],
   "source": [
    "li3 =[505,404,8086]\n",
    "out = zip (li,li2,li3) \n",
    "for i,j,k in out:\n",
    "    print(i,j,k)  #it will Show the list of two tuples from two lists"
   ]
  },
  {
   "cell_type": "code",
   "execution_count": null,
   "metadata": {},
   "outputs": [],
   "source": [
    "list(zip()) #intialized zip"
   ]
  },
  {
   "cell_type": "code",
   "execution_count": 59,
   "metadata": {},
   "outputs": [
    {
     "data": {
      "text/plain": [
       "[(0, 0), (1, 1), (2, 2), (3, 3), (4, 4)]"
      ]
     },
     "execution_count": 59,
     "metadata": {},
     "output_type": "execute_result"
    }
   ],
   "source": [
    "list( zip(range(5),range(10))) #There Will be 5 tuples but only in the range of 10.\n"
   ]
  },
  {
   "cell_type": "code",
   "execution_count": 67,
   "metadata": {},
   "outputs": [],
   "source": [
    "dict1={'name':'AXC','last_name':'YWZ','age':3}\n",
    "dict2={'name':'RTY','last_name':'REW','age':9}"
   ]
  },
  {
   "cell_type": "code",
   "execution_count": 68,
   "metadata": {},
   "outputs": [
    {
     "name": "stdout",
     "output_type": "stream",
     "text": [
      "name -> AXC\n",
      "name -> RTY\n",
      "last_name -> YWZ\n",
      "last_name -> REW\n",
      "age -> 3\n",
      "age -> 9\n"
     ]
    }
   ],
   "source": [
    "dictionary=zip(dict1.items(),dict2.items())\n",
    "for (i,j),(i2,j2) in dictionary:  #Traversing Dictionary in parallel\n",
    "    print(i,\"->\", j)\n",
    "    print(i2,\"->\",j2)"
   ]
  },
  {
   "cell_type": "code",
   "execution_count": 72,
   "metadata": {},
   "outputs": [
    {
     "data": {
      "text/plain": [
       "(1, 2, 3, 4)"
      ]
     },
     "execution_count": 72,
     "metadata": {},
     "output_type": "execute_result"
    }
   ],
   "source": [
    "pairs = [(1, 'a'), (2, 'b'), (3, 'c'), (4, 'd')] #Its a pair\n",
    "numbers, letters = zip(*pairs)  #here the Pair is unzipped\n",
    "numbers"
   ]
  },
  {
   "cell_type": "code",
   "execution_count": 71,
   "metadata": {},
   "outputs": [
    {
     "data": {
      "text/plain": [
       "('a', 'b', 'c', 'd')"
      ]
     },
     "execution_count": 71,
     "metadata": {},
     "output_type": "execute_result"
    }
   ],
   "source": [
    "letters"
   ]
  },
  {
   "cell_type": "code",
   "execution_count": 78,
   "metadata": {},
   "outputs": [
    {
     "data": {
      "text/plain": [
       "[(1, 'd'), (2, 'a'), (3, 'b'), (4, 'c')]"
      ]
     },
     "execution_count": 78,
     "metadata": {},
     "output_type": "execute_result"
    }
   ],
   "source": [
    "#Sorting Zip\n",
    "p = [(2, 'a'), (3, 'b'), (4, 'c'), (1, 'd')]\n",
    "n, l = zip(*p)\n",
    "data_=list(zip(n,l)) #Number has called first so sorting will be according to number\n",
    "data_.sort()\n",
    "data_"
   ]
  },
  {
   "cell_type": "code",
   "execution_count": 79,
   "metadata": {},
   "outputs": [
    {
     "data": {
      "text/plain": [
       "[('a', 2), ('b', 3), ('c', 4), ('d', 1)]"
      ]
     },
     "execution_count": 79,
     "metadata": {},
     "output_type": "execute_result"
    }
   ],
   "source": [
    "data_=list(zip(l,n)) #Letters has called first so sorting will be according to letter\n",
    "data_.sort()\n",
    "data_"
   ]
  },
  {
   "cell_type": "code",
   "execution_count": 83,
   "metadata": {},
   "outputs": [
    {
     "name": "stdout",
     "output_type": "stream",
     "text": [
      "Total profit: 5200.0\n",
      "Total profit: 5100.0\n",
      "Total profit: 4800.0\n"
     ]
    }
   ],
   "source": [
    "#Calculate Some Operation\n",
    "total_sales = [52000.00, 51000.00, 48000.00]\n",
    "prod_cost = [46800.00, 45900.00, 43200.00]\n",
    "for sales, costs in zip(total_sales, prod_cost):\n",
    "    profit = sales - costs\n",
    "    print(\"Total profit: {}\".format(profit))"
   ]
  },
  {
   "cell_type": "markdown",
   "metadata": {},
   "source": [
    "PDF"
   ]
  },
  {
   "cell_type": "code",
   "execution_count": 15,
   "metadata": {},
   "outputs": [],
   "source": [
    "from PyPDF2 import PdfFileReader,PdfFileWriter\n",
    "# open the current pdf\n",
    "file_pdf = PdfFileReader('1803045_Registration.pdf')\n",
    "# Object for pdf writer\n",
    "Write_pdf = PdfFileWriter()"
   ]
  },
  {
   "cell_type": "code",
   "execution_count": 16,
   "metadata": {},
   "outputs": [],
   "source": [
    "for i in range(file_pdf.numPages):\n",
    "    page_details=file_pdf.getPage(i)\n",
    "    ### Add to the output page\n",
    "    Write_pdf.addPage(page_details) #Adding Pages\n",
    "password = \"Nopass\" #Create Pass\n",
    "Write_pdf.encrypt(password) \n",
    "with open(\"encrypted.pdf\",\"wb\") as filename:\n",
    "    Write_pdf.write(filename)"
   ]
  },
  {
   "cell_type": "markdown",
   "metadata": {},
   "source": [
    "PIP Freeze- Creating Packages(Requirements.txt) For The Application\n",
    "**The libraries and dependencies are needed to complete a project**"
   ]
  },
  {
   "cell_type": "code",
   "execution_count": null,
   "metadata": {},
   "outputs": [],
   "source": [
    "pip freeze > requirements.txt"
   ]
  },
  {
   "cell_type": "markdown",
   "metadata": {},
   "source": [
    "**Logging Implementation**"
   ]
  },
  {
   "cell_type": "code",
   "execution_count": 17,
   "metadata": {},
   "outputs": [],
   "source": [
    "import logging\n",
    "logging.basicConfig(\n",
    "    filename=\"Testing.txt\", #kind of filename\n",
    "    filemode='a', #Append or write or write bytes mode Append + write mode\n",
    "    format='%(asctime)s %(levelname)s-%(message)s', # what kind of time its printing with this text file wr to Logs; Level-Name= Kind of Error (Critical/Warrning/error); message= the message we r going to print inside the for llop condition\n",
    "    datefmt='%Y-%m-%d %H:%M:%S') #Date formate is going to print in asc time\n",
    "for i in range(0,15): \n",
    "    if(i%2==0):\n",
    "        logging.warning(\"Log Warning message\")\n",
    "    \n",
    "    elif (i%3==0):\n",
    "        logging.critical('Log Critical')\n",
    "    else:\n",
    "        logging.error('Log Error')"
   ]
  }
 ],
 "metadata": {
  "interpreter": {
   "hash": "26de051ba29f2982a8de78e945f0abaf191376122a1563185a90213a26c5da77"
  },
  "kernelspec": {
   "display_name": "Python 3.10.4 64-bit",
   "language": "python",
   "name": "python3"
  },
  "language_info": {
   "codemirror_mode": {
    "name": "ipython",
    "version": 3
   },
   "file_extension": ".py",
   "mimetype": "text/x-python",
   "name": "python",
   "nbconvert_exporter": "python",
   "pygments_lexer": "ipython3",
   "version": "3.10.4"
  },
  "orig_nbformat": 4
 },
 "nbformat": 4,
 "nbformat_minor": 2
}
