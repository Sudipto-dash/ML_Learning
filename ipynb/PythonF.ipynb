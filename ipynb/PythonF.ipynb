{
 "cells": [
  {
   "cell_type": "code",
   "execution_count": 27,
   "metadata": {},
   "outputs": [
    {
     "name": "stdout",
     "output_type": "stream",
     "text": [
      "5  is prime\n"
     ]
    }
   ],
   "source": [
    "def PrimeNumber(num):\n",
    "    flag = False\n",
    "    for i in range (2,num):\n",
    "        if(num%i) == 0:\n",
    "            flag = True\n",
    "            break\n",
    "    if(flag):\n",
    "        print(num, \"Is not a Prime Number\")\n",
    "    else:\n",
    "        print(num, \" is prime\")\n",
    "\n",
    "numb = input()\n",
    "numb = int(numb)\n",
    "PrimeNumber(numb)"
   ]
  },
  {
   "cell_type": "code",
   "execution_count": 28,
   "metadata": {},
   "outputs": [
    {
     "name": "stdout",
     "output_type": "stream",
     "text": [
      "[2, 3, 5]\n"
     ]
    },
    {
     "data": {
      "image/png": "[encoded data removed]",
      "text/plain": [
       "<Figure size 432x288 with 1 Axes>"
      ]
     },
     "metadata": {
      "needs_background": "light"
     },
     "output_type": "display_data"
    }
   ],
   "source": [
    "import matplotlib.pyplot as plt\n",
    "import numpy as np\n",
    "import seaborn as sns\n",
    "t = []\n",
    "num1 = int(input(\"Enter Range 2 to: \"))\n",
    "for num in range(2,num1+1):\n",
    "    for i in range (2,num):\n",
    "        if(num%i == 0):\n",
    "            break\n",
    "    else:\n",
    "        t.append(num); \n",
    "\n",
    "print(t)\n",
    "c = np.arange(2,20)      \n",
    "plt.scatter(t,t,c=\"red\")\n",
    "plt.xlim(2,num1)\n",
    "plt.ylim(2,num1)\n",
    "plt.xlabel(\"X-Axis\")\n",
    "plt.ylabel(\"Y-Axis\")\n",
    "plt.title(\"Prime Number\")\n",
    "plt.show()\n",
    "\n"
   ]
  },
  {
   "cell_type": "code",
   "execution_count": 29,
   "metadata": {},
   "outputs": [],
   "source": [
    "def Mybio(name, occupation=\"Jobless\"):\n",
    "    print(\"My name is {} , i am {}\".format(name,  occupation))"
   ]
  },
  {
   "cell_type": "code",
   "execution_count": 30,
   "metadata": {},
   "outputs": [
    {
     "name": "stdout",
     "output_type": "stream",
     "text": [
      "My name is Sudipto , i am Jobless\n"
     ]
    }
   ],
   "source": [
    "Mybio(\"Sudipto\")"
   ]
  },
  {
   "cell_type": "code",
   "execution_count": 31,
   "metadata": {},
   "outputs": [],
   "source": [
    "def UsingArgs(*args,**kwargs):\n",
    "    print(args,kwargs)\n",
    "    #print(kwargs)"
   ]
  },
  {
   "cell_type": "code",
   "execution_count": 32,
   "metadata": {},
   "outputs": [
    {
     "name": "stdout",
     "output_type": "stream",
     "text": [
      "('ABCD', 'XYZ') {'x': 90, 'y': 80}\n"
     ]
    }
   ],
   "source": [
    "UsingArgs(\"ABCD\",\"XYZ\",x=90,y=80)"
   ]
  },
  {
   "cell_type": "code",
   "execution_count": 33,
   "metadata": {},
   "outputs": [],
   "source": [
    "lst = ['Sudipto','Dash']\n",
    "dict_lst = {'UG' : \"Ruet\", 'Dept.' : \"CSE\"}"
   ]
  },
  {
   "cell_type": "code",
   "execution_count": 34,
   "metadata": {},
   "outputs": [
    {
     "name": "stdout",
     "output_type": "stream",
     "text": [
      "('Sudipto', 'Dash') {'UG': 'Ruet', 'Dept.': 'CSE'}\n"
     ]
    }
   ],
   "source": [
    "UsingArgs(*lst,**dict_lst)"
   ]
  },
  {
   "cell_type": "markdown",
   "metadata": {},
   "source": [
    "**LAMBDA**"
   ]
  },
  {
   "cell_type": "code",
   "execution_count": 35,
   "metadata": {},
   "outputs": [
    {
     "name": "stdout",
     "output_type": "stream",
     "text": [
      "1\n"
     ]
    }
   ],
   "source": [
    "aVar = lambda a: a%2\n",
    "\n",
    "print(aVar(23))"
   ]
  },
  {
   "cell_type": "markdown",
   "metadata": {},
   "source": [
    "**MAP**"
   ]
  },
  {
   "cell_type": "code",
   "execution_count": 36,
   "metadata": {},
   "outputs": [],
   "source": [
    "def fact(n):\n",
    "    f=1\n",
    "    for i in range(1,n+1):\n",
    "        f=f*i\n",
    "    return f"
   ]
  },
  {
   "cell_type": "code",
   "execution_count": 37,
   "metadata": {},
   "outputs": [
    {
     "name": "stdout",
     "output_type": "stream",
     "text": [
      "[1, 120, 720, 5040, 3628800]\n"
     ]
    }
   ],
   "source": [
    "li = [1,5,6,7,10]\n",
    "res = map(fact,li)\n",
    "print(list(res))"
   ]
  },
  {
   "cell_type": "code",
   "execution_count": 17,
   "metadata": {},
   "outputs": [
    {
     "name": "stdout",
     "output_type": "stream",
     "text": [
      "[2, 6, 120, 3628800]\n"
     ]
    }
   ],
   "source": [
    "jj = lambda t: 1 if (t==0 or t==1) else t*jj(t-1)\n",
    "lij = [2,3,5,10]\n",
    "print(list(map(jj,lij)))\n"
   ]
  },
  {
   "cell_type": "markdown",
   "metadata": {},
   "source": [
    "**Filter**"
   ]
  },
  {
   "cell_type": "code",
   "execution_count": 38,
   "metadata": {},
   "outputs": [
    {
     "name": "stdout",
     "output_type": "stream",
     "text": [
      "[('Name-2', 25), ('Name-3', 30)]\n"
     ]
    }
   ],
   "source": [
    "lis = [(\"Name-1\",20),\n",
    "        (\"Name-2\",25),\n",
    "         (\"Name-3\",30)]\n",
    "var = lambda person: person[1]>=25\n",
    "filteredObjs = filter(var,lis)\n",
    "print(list(filteredObjs))\n"
   ]
  },
  {
   "cell_type": "markdown",
   "metadata": {},
   "source": [
    "*Store data to other list*"
   ]
  },
  {
   "cell_type": "code",
   "execution_count": 39,
   "metadata": {},
   "outputs": [
    {
     "name": "stdout",
     "output_type": "stream",
     "text": [
      "[20, 25, 30]\n"
     ]
    }
   ],
   "source": [
    "lis = [(\"Name-1\",20),\n",
    "        (\"Name-2\",25),\n",
    "         (\"Name-3\",30)]\n",
    "var = lambda person: person[1]\n",
    "age=map(var,lis)\n",
    "print(list(age))\n"
   ]
  },
  {
   "cell_type": "markdown",
   "metadata": {},
   "source": [
    "**List Comprehension**"
   ]
  },
  {
   "cell_type": "code",
   "execution_count": 20,
   "metadata": {},
   "outputs": [
    {
     "name": "stdout",
     "output_type": "stream",
     "text": [
      "[4, 16, 36, 64, 100, 144, 196, 256, 324, 400, 484, 576, 676, 784, 900, 1024, 1156, 1296, 1444, 1600, 1764, 1936, 2116, 2304, 2500]\n"
     ]
    },
    {
     "data": {
      "image/png": "[encoded data removed]",
      "text/plain": [
       "<Figure size 432x288 with 1 Axes>"
      ]
     },
     "metadata": {
      "needs_background": "light"
     },
     "output_type": "display_data"
    }
   ],
   "source": [
    "import matplotlib.pyplot as plt\n",
    "square = [i**2 for i in range (1,51) if(i%2==0)]\n",
    "print(square)\n",
    "plt.plot(square)\n",
    "plt.show()"
   ]
  },
  {
   "cell_type": "code",
   "execution_count": 41,
   "metadata": {},
   "outputs": [
    {
     "name": "stdout",
     "output_type": "stream",
     "text": [
      "['Dakest Hour', 'Darkest Mind', 'Dog']\n"
     ]
    }
   ],
   "source": [
    "movies = [\"ABCD\",\"Intersteller\",\"Theory of Everything\",\"Dakest Hour\",\"Darkest Mind\",\"Pearl Harbour\",\"Dog\",\"Gravity\"]\n",
    "title = [name for name in movies if name.startswith(\"D\")]\n",
    "print(title)"
   ]
  },
  {
   "cell_type": "markdown",
   "metadata": {},
   "source": [
    "**STRING FORMAT**"
   ]
  },
  {
   "cell_type": "code",
   "execution_count": 42,
   "metadata": {},
   "outputs": [
    {
     "name": "stdout",
     "output_type": "stream",
     "text": [
      "the price 29.10\n"
     ]
    }
   ],
   "source": [
    "price = 29.1\n",
    "print(\"the price {:.2f}\".format(price))"
   ]
  },
  {
   "cell_type": "code",
   "execution_count": 43,
   "metadata": {},
   "outputs": [
    {
     "name": "stdout",
     "output_type": "stream",
     "text": [
      "2 pieces of Pepsi is needed at 13.50 tk. price\n",
      "None\n"
     ]
    }
   ],
   "source": [
    "def checkString(quantity,price,product=\"Pepsi\"):\n",
    "    print(\"{} pieces of {} is needed at {:.2f} tk. price\".format(quantity,product,price))\n",
    "print(checkString(2,13.5))"
   ]
  },
  {
   "cell_type": "code",
   "execution_count": 44,
   "metadata": {},
   "outputs": [
    {
     "name": "stdout",
     "output_type": "stream",
     "text": [
      "1\n",
      "5\n",
      "1\n",
      "2\n",
      "6\n",
      "6\n",
      "8\n",
      "5\n"
     ]
    }
   ],
   "source": [
    "s= 15126685\n",
    "d=[int (dg) for dg in str(s)]\n",
    "for digits in d:\n",
    "    print(digits)"
   ]
  },
  {
   "cell_type": "markdown",
   "metadata": {},
   "source": [
    "**ITER**"
   ]
  },
  {
   "cell_type": "code",
   "execution_count": 45,
   "metadata": {},
   "outputs": [
    {
     "name": "stdout",
     "output_type": "stream",
     "text": [
      "Tic\n",
      "Tac\n",
      "Toe\n"
     ]
    }
   ],
   "source": [
    "names = [\"Tic\",\"Tac\",\"Toe\"]\n",
    "loop = iter(names)\n",
    "while True:\n",
    "    try:\n",
    "        print(next(loop))\n",
    "    except StopIteration:\n",
    "        break"
   ]
  },
  {
   "cell_type": "markdown",
   "metadata": {},
   "source": [
    "**PYFOREST Imported**"
   ]
  },
  {
   "cell_type": "code",
   "execution_count": 46,
   "metadata": {},
   "outputs": [
    {
     "data": {
      "application/javascript": "\n        if (window._pyforest_update_imports_cell) { window._pyforest_update_imports_cell('import seaborn as sns\\nimport pandas as pd'); }\n    ",
      "text/plain": [
       "<IPython.core.display.Javascript object>"
      ]
     },
     "metadata": {},
     "output_type": "display_data"
    },
    {
     "name": "stdout",
     "output_type": "stream",
     "text": [
      "   PassengerId  Pclass                                          Name     Sex  \\\n",
      "0          892       3                              Kelly, Mr. James    male   \n",
      "1          893       3              Wilkes, Mrs. James (Ellen Needs)  female   \n",
      "2          894       2                     Myles, Mr. Thomas Francis    male   \n",
      "3          895       3                              Wirz, Mr. Albert    male   \n",
      "4          896       3  Hirvonen, Mrs. Alexander (Helga E Lindqvist)  female   \n",
      "\n",
      "    Age  SibSp  Parch   Ticket     Fare Cabin Embarked  \n",
      "0  34.5      0      0   330911   7.8292   NaN        Q  \n",
      "1  47.0      1      0   363272   7.0000   NaN        S  \n",
      "2  62.0      0      0   240276   9.6875   NaN        Q  \n",
      "3  27.0      0      0   315154   8.6625   NaN        S  \n",
      "4  22.0      1      1  3101298  12.2875   NaN        S  \n"
     ]
    },
    {
     "data": {
      "image/png": "[encoded data removed]",
      "text/plain": [
       "<Figure size 432x288 with 1 Axes>"
      ]
     },
     "metadata": {
      "needs_background": "light"
     },
     "output_type": "display_data"
    }
   ],
   "source": [
    "import pyforest\n",
    "df = pd.read_csv(\"test.csv\")\n",
    "print(df.head(5))\n",
    "plt.bar(df.Embarked,df.Age)\n",
    "plt.show()"
   ]
  },
  {
   "cell_type": "code",
   "execution_count": 48,
   "metadata": {},
   "outputs": [
    {
     "data": {
      "text/plain": [
       "<seaborn.axisgrid.FacetGrid at 0x23c678de710>"
      ]
     },
     "execution_count": 48,
     "metadata": {},
     "output_type": "execute_result"
    },
    {
     "data": {
      "image/png": "[encoded data removed]",
      "text/plain": [
       "<Figure size 418.375x360 with 1 Axes>"
      ]
     },
     "metadata": {
      "needs_background": "light"
     },
     "output_type": "display_data"
    }
   ],
   "source": [
    "sns.displot(df,x=\"Sex\",y=\"Age\", hue=\"Age\")"
   ]
  },
  {
   "cell_type": "code",
   "execution_count": 52,
   "metadata": {},
   "outputs": [
    {
     "name": "stdout",
     "output_type": "stream",
     "text": [
      "120\n"
     ]
    }
   ],
   "source": [
    "f = lambda a : 1 if a<=1 else a*f(a-1)\n",
    "print(f(5))"
   ]
  }
 ],
 "metadata": {
  "interpreter": {
   "hash": "26de051ba29f2982a8de78e945f0abaf191376122a1563185a90213a26c5da77"
  },
  "kernelspec": {
   "display_name": "Python 3.10.4 64-bit",
   "language": "python",
   "name": "python3"
  },
  "language_info": {
   "codemirror_mode": {
    "name": "ipython",
    "version": 3
   },
   "file_extension": ".py",
   "mimetype": "text/x-python",
   "name": "python",
   "nbconvert_exporter": "python",
   "pygments_lexer": "ipython3",
   "version": "3.10.4"
  },
  "orig_nbformat": 4
 },
 "nbformat": 4,
 "nbformat_minor": 2
}
