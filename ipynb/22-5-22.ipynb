{
 "cells": [
  {
   "cell_type": "markdown",
   "metadata": {},
   "source": [
    "**Statictics**\n",
    "Histogram, barplot,pie chart, pdf, cdf are used to analyze data.\n",
    "Descriptive Stats:\n",
    "    central tendency = mean, median, mod\n",
    "    Measure of Variants = Standard deviation {The standard deviation is the average amount of variability in your dataset. It tells you, on average, how far each value lies from the mean},\n",
    "    variants {variance measures how far each number in the set is from the mean and thus from every other number in the set}\n",
    "\n",
    "Inferential Stas:\n",
    "    Descriptive statistics describes data (for example, a chart or graph) and inferential statistics allows you to make predictions (“inferences”) \n",
    "    Confidence Intervals:\n",
    "        Z test, T test, Chi test\n",
    "        "
   ]
  },
  {
   "cell_type": "code",
   "execution_count": 4,
   "metadata": {},
   "outputs": [],
   "source": [
    "import pandas as pd\n",
    "import matplotlib.pyplot as plt\n",
    "import numpy as np\n",
    "import seaborn as sns\n",
    "%matplotlib inline\n",
    "from scipy.stats import pearsonr"
   ]
  },
  {
   "cell_type": "code",
   "execution_count": 22,
   "metadata": {},
   "outputs": [
    {
     "name": "stdout",
     "output_type": "stream",
     "text": [
      " id  income\n",
      "  1    2296\n",
      "  2    4823\n",
      "  3    2924\n",
      "  4    2590\n",
      "  5    1462\n",
      "  6    4602\n",
      "  7    2112\n",
      "  8    1906\n",
      "  9    2072\n",
      " 10    3985\n",
      " 11    2259\n",
      " 12    2352\n",
      " 13    1246\n",
      " 14    1716\n",
      " 15    4245\n",
      " 16    4877\n",
      " 17    1809\n",
      " 18    4093\n",
      " 19    2620\n",
      " 20    1023\n",
      " 21    2949\n",
      " 22    3852\n",
      " 23    2949\n",
      " 24    3811\n",
      " 25    4835\n",
      " 26    1036\n",
      " 27    3970\n",
      " 28    1097\n",
      " 29    4596\n",
      " 30    4419\n",
      " 31    4448\n",
      " 32    4386\n",
      " 33    4025\n",
      " 34    3427\n",
      " 35    2906\n",
      " 36    3625\n",
      " 37    2903\n",
      " 38    1419\n",
      " 39    4383\n",
      " 40    1263\n",
      " 41    1199\n",
      " 42    1265\n",
      " 43    2275\n",
      " 44    4120\n",
      " 45    3522\n",
      " 46    4796\n",
      " 47    1448\n",
      " 48    4546\n",
      " 49    4711\n",
      " 50    1294\n",
      " 51    1386\n",
      " 52    3373\n",
      " 53    1118\n",
      " 54    1526\n",
      " 55    3227\n",
      " 56    3874\n",
      " 57    4742\n",
      " 58    3845\n",
      " 59    4391\n",
      " 60    2265\n",
      " 61    1322\n",
      " 62    3889\n",
      " 63    3598\n",
      " 64    2652\n",
      " 65    2917\n",
      " 66    1199\n",
      " 67    1951\n",
      " 68    3775\n",
      " 69    3827\n",
      " 70    1389\n",
      " 71    1230\n",
      " 72    1847\n",
      " 73    2690\n",
      " 74    3703\n",
      " 75    1996\n",
      " 76    3393\n",
      " 77    2649\n",
      " 78    2484\n",
      " 79    1568\n",
      " 80    3411\n",
      " 81    4633\n",
      " 82    2086\n",
      " 83    3427\n",
      " 84    2133\n",
      " 85    3227\n",
      " 86    3768\n",
      " 87    1431\n",
      " 88    1770\n",
      " 89    3831\n",
      " 90    1648\n",
      " 91    1546\n",
      " 92    3152\n",
      " 93    3213\n",
      " 94    4737\n",
      " 95    3034\n",
      " 96    2607\n",
      " 97    3356\n",
      " 98    2185\n",
      " 99    4536\n",
      "100    4075\n"
     ]
    }
   ],
   "source": [
    "#Make a Data Frame\n",
    "df = pd.DataFrame(dict(id = range(1,101), income = np.random.randint(1000, 5000, size=100) ))\n",
    "#df.to_stata(index = False, header = False)\n",
    "print(df.to_string(index=False))\n"
   ]
  },
  {
   "cell_type": "code",
   "execution_count": 54,
   "metadata": {},
   "outputs": [
    {
     "name": "stdout",
     "output_type": "stream",
     "text": [
      "Mean of Income:  2921.19\n",
      "Median of Income:  2936.5\n",
      "Mode of Income:  0    1199\n",
      "1    2949\n",
      "2    3227\n",
      "3    3427\n",
      "Name: income, dtype: int32\n",
      "Variance of Income:  1418354.0140404042\n",
      "Standard deviation  1190.9466881604753\n",
      "Max INcome  4877\n",
      "Min INcome  1023\n"
     ]
    }
   ],
   "source": [
    "print(\"Mean of Income: \",df[\"income\"].mean())\n",
    "print(\"Median of Income: \",df[\"income\"].median())\n",
    "print(\"Mode of Income: \",df[\"income\"].mode())\n",
    "print(\"Variance of Income: \",df[\"income\"].var())\n",
    "print(\"Standard deviation \",df[\"income\"].std())\n",
    "print(\"Max INcome \",df[\"income\"].max())\n",
    "print(\"Min INcome \",df[\"income\"].min())"
   ]
  },
  {
   "cell_type": "code",
   "execution_count": 31,
   "metadata": {},
   "outputs": [
    {
     "data": {
      "image/png": "[encoded data removed]",
      "text/plain": [
       "<Figure size 432x288 with 1 Axes>"
      ]
     },
     "metadata": {
      "needs_background": "light"
     },
     "output_type": "display_data"
    }
   ],
   "source": [
    "#df.boxplot(column = \"income\" , return type = 'axes')\n",
    "plt.boxplot(df.income)\n",
    "plt.show()"
   ]
  },
  {
   "cell_type": "code",
   "execution_count": 52,
   "metadata": {},
   "outputs": [
    {
     "name": "stdout",
     "output_type": "stream",
     "text": [
      "[2949 3373 1716 1716 1568 2949 3411 1023 3970 1448 1809 3831 3775 2949\n",
      " 3775 1847 3427 3775 2903 3970 2112 2652 1716 1199 2484 4025 1526 1322\n",
      " 1263 4448 4796 4742 2265 1568 1386 4711 2949 3831 3874 2949 2924 2949\n",
      " 4536 1294 4596 4093 2607 3427 3985 3768]\n"
     ]
    }
   ],
   "source": [
    "for x in range(100):\n",
    "    sample = np.random.choice(a= df.income,size=50)\n",
    "\n",
    "print(sample)\n",
    "    "
   ]
  },
  {
   "cell_type": "code",
   "execution_count": 53,
   "metadata": {},
   "outputs": [
    {
     "name": "stdout",
     "output_type": "stream",
     "text": [
      "2923.62\n",
      "2921.19\n"
     ]
    }
   ],
   "source": [
    "print(sample.mean())\n",
    "print(df.income.mean())"
   ]
  },
  {
   "cell_type": "code",
   "execution_count": 2,
   "metadata": {},
   "outputs": [
    {
     "data": {
      "application/javascript": "\n        if (window._pyforest_update_imports_cell) { window._pyforest_update_imports_cell('import matplotlib.pyplot as plt\\nimport numpy as np'); }\n    ",
      "text/plain": [
       "<IPython.core.display.Javascript object>"
      ]
     },
     "metadata": {},
     "output_type": "display_data"
    },
    {
     "data": {
      "application/javascript": "\n        if (window._pyforest_update_imports_cell) { window._pyforest_update_imports_cell('import matplotlib.pyplot as plt\\nimport numpy as np'); }\n    ",
      "text/plain": [
       "<IPython.core.display.Javascript object>"
      ]
     },
     "metadata": {},
     "output_type": "display_data"
    },
    {
     "data": {
      "text/plain": [
       "Text(0, 0.5, 'Count')"
      ]
     },
     "execution_count": 2,
     "metadata": {},
     "output_type": "execute_result"
    },
    {
     "data": {
      "image/png": "[encoded data removed]",
      "text/plain": [
       "<Figure size 720x360 with 1 Axes>"
      ]
     },
     "metadata": {
      "needs_background": "light"
     },
     "output_type": "display_data"
    }
   ],
   "source": [
    "dt = np.random.normal(loc = 0.0, scale=1.0,size=(100000))\n",
    "fig,axes = plt.subplots(figsize = (10,5))\n",
    "axes.hist(dt,bins = 84)\n",
    "axes.set_title(\"Normal Dist\")\n",
    "axes.set_xlabel(\"bins\")\n",
    "axes.set_ylabel(\"Count\")\n"
   ]
  },
  {
   "cell_type": "code",
   "execution_count": 8,
   "metadata": {},
   "outputs": [
    {
     "data": {
      "text/plain": [
       "Sex      0\n",
       "Age     86\n",
       "Fare     1\n",
       "dtype: int64"
      ]
     },
     "execution_count": 8,
     "metadata": {},
     "output_type": "execute_result"
    }
   ],
   "source": [
    "data1=pd.read_csv('test.csv',usecols=['Age','Fare','Sex'])\n",
    "data1.head()\n",
    "data1.isnull().sum()"
   ]
  },
  {
   "cell_type": "code",
   "execution_count": 9,
   "metadata": {},
   "outputs": [],
   "source": [
    "def impute_na(data, variable):\n",
    "    # function to fill na with a random sample\n",
    "    df = data.copy()\n",
    "    \n",
    "    # random sampling\n",
    "    df[variable+'_random'] = df[variable]\n",
    "    \n",
    "    # extract the random sample to fill the na\n",
    "    random_sample = df[variable].dropna().sample(df[variable].isnull().sum(), random_state=0)\n",
    "    \n",
    "    # pandas needs to have the same index in order to merge datasets\n",
    "    random_sample.index = df[df[variable].isnull()].index\n",
    "    df.loc[df[variable].isnull(), variable+'_random'] = random_sample\n",
    "    \n",
    "    return df[variable+'_random']"
   ]
  },
  {
   "cell_type": "code",
   "execution_count": 12,
   "metadata": {},
   "outputs": [
    {
     "data": {
      "text/plain": [
       "Sex     0\n",
       "Age     0\n",
       "Fare    0\n",
       "dtype: int64"
      ]
     },
     "execution_count": 12,
     "metadata": {},
     "output_type": "execute_result"
    }
   ],
   "source": [
    "data1['Age'] = impute_na(data1,'Age')\n",
    "data1['Fare'] = impute_na(data1,'Fare')\n",
    "data1.isnull().sum()"
   ]
  },
  {
   "cell_type": "code",
   "execution_count": 88,
   "metadata": {},
   "outputs": [
    {
     "data": {
      "text/html": [
       "<div>\n",
       "<style scoped>\n",
       "    .dataframe tbody tr th:only-of-type {\n",
       "        vertical-align: middle;\n",
       "    }\n",
       "\n",
       "    .dataframe tbody tr th {\n",
       "        vertical-align: top;\n",
       "    }\n",
       "\n",
       "    .dataframe thead th {\n",
       "        text-align: right;\n",
       "    }\n",
       "</style>\n",
       "<table border=\"1\" class=\"dataframe\">\n",
       "  <thead>\n",
       "    <tr style=\"text-align: right;\">\n",
       "      <th></th>\n",
       "      <th>income</th>\n",
       "      <th>count</th>\n",
       "    </tr>\n",
       "  </thead>\n",
       "  <tbody>\n",
       "    <tr>\n",
       "      <th>0</th>\n",
       "      <td>5000</td>\n",
       "      <td>4371</td>\n",
       "    </tr>\n",
       "    <tr>\n",
       "      <th>1</th>\n",
       "      <td>10000</td>\n",
       "      <td>3295</td>\n",
       "    </tr>\n",
       "    <tr>\n",
       "      <th>2</th>\n",
       "      <td>15000</td>\n",
       "      <td>5825</td>\n",
       "    </tr>\n",
       "    <tr>\n",
       "      <th>3</th>\n",
       "      <td>20000</td>\n",
       "      <td>6047</td>\n",
       "    </tr>\n",
       "    <tr>\n",
       "      <th>4</th>\n",
       "      <td>25000</td>\n",
       "      <td>6097</td>\n",
       "    </tr>\n",
       "  </tbody>\n",
       "</table>\n",
       "</div>"
      ],
      "text/plain": [
       "   income  count\n",
       "0    5000   4371\n",
       "1   10000   3295\n",
       "2   15000   5825\n",
       "3   20000   6047\n",
       "4   25000   6097"
      ]
     },
     "execution_count": 88,
     "metadata": {},
     "output_type": "execute_result"
    }
   ],
   "source": [
    "#In log normal we add log in x axis to make it like normal distribution\n",
    "df1 = pd.read_csv(\n",
    "    \"income.csv\", \n",
    "    index_col=None, \n",
    "    names=[\"income\",\"count\"], \n",
    "    skiprows=1\n",
    ")\n",
    "df1.head()"
   ]
  },
  {
   "cell_type": "code",
   "execution_count": 90,
   "metadata": {},
   "outputs": [
    {
     "data": {
      "image/png": "[encoded data removed]",
      "text/plain": [
       "<Figure size 842.4x595.44 with 1 Axes>"
      ]
     },
     "metadata": {},
     "output_type": "display_data"
    }
   ],
   "source": [
    "sns.set(rc={'figure.figsize':(11.7,8.27)})\n",
    "g = sns.barplot(x='income',y='count',data=df1)\n",
    "g.set_xticklabels(g.get_xticklabels(), \n",
    "                          rotation=45, \n",
    "                          horizontalalignment='right');"
   ]
  },
  {
   "cell_type": "code",
   "execution_count": 96,
   "metadata": {},
   "outputs": [
    {
     "data": {
      "image/png": "[encoded data removed]",
      "text/plain": [
       "<Figure size 842.4x595.44 with 1 Axes>"
      ]
     },
     "metadata": {},
     "output_type": "display_data"
    }
   ],
   "source": [
    "sns.set(rc={'figure.figsize':(11.7,8.27)})\n",
    "g = sns.barplot(x='income',y='count',data=df1)\n",
    "g.set_xticklabels(g.get_xticklabels(), \n",
    "                          rotation=45, \n",
    "                          horizontalalignment='right');\n",
    "g.set(xscale=\"log\");"
   ]
  },
  {
   "cell_type": "markdown",
   "metadata": {},
   "source": [
    "**CoVariance**\n",
    "https://www.statisticshowto.com/probability-and-statistics/statistics-definitions/covariance/\n",
    "\n",
    "**Random Variables**\n",
    "https://corporatefinanceinstitute.com/resources/knowledge/other/random-variable/\n",
    "\n",
    "**Central Limit Theorem**\n",
    "https://statisticsbyjim.com/basics/central-limit-theorem/"
   ]
  },
  {
   "cell_type": "code",
   "execution_count": 101,
   "metadata": {},
   "outputs": [
    {
     "name": "stdout",
     "output_type": "stream",
     "text": [
      "3.999692341428737\n"
     ]
    },
    {
     "data": {
      "image/png": "[encoded data removed]",
      "text/plain": [
       "<Figure size 842.4x595.44 with 1 Axes>"
      ]
     },
     "metadata": {},
     "output_type": "display_data"
    },
    {
     "data": {
      "image/png": "[encoded data removed]",
      "text/plain": [
       "<Figure size 842.4x595.44 with 1 Axes>"
      ]
     },
     "metadata": {},
     "output_type": "display_data"
    }
   ],
   "source": [
    "\n",
    "shape, scale = 2., 2.  # mean=4, std=2*sqrt(2)\n",
    "import random\n",
    "s = np.random.gamma(shape, scale, 100000)\n",
    "print(np.mean(s))\n",
    "import matplotlib.pyplot as plt\n",
    "import scipy.special as sps\n",
    "plt.hist(s)\n",
    "plt.show()\n",
    "\n",
    "\n",
    "# The distribution of the means from the sampled groups is normally distributed\n",
    "samples = [ np.mean(random.choices(s, k=20)) for _ in range(1000) ]\n",
    "plt.hist(samples)\n",
    "plt.show()"
   ]
  },
  {
   "cell_type": "markdown",
   "metadata": {},
   "source": [
    "**Chebyshev's InEquality**\n",
    "https://corporatefinanceinstitute.com/resources/knowledge/data-analysis/chebyshevs-inequality/\n",
    "\n",
    "**Pearson Correlation Coefficient**\n",
    "https://en.wikipedia.org/wiki/Pearson_correlation_coefficient\n",
    "https://www.youtube.com/watch?v=6fUYt1alA1U\n",
    "\n",
    "**Spearman's rank correlation coefficient- Statistics**\n",
    "https://en.wikipedia.org/wiki/Spearman%27s_rank_correlation_coefficient#:~:text=%2C%20is%20a%20nonparametric%20measure%20of,described%20using%20a%20monotonic%20function.\n",
    "https://www.youtube.com/watch?v=CIQ3u7CvOEU"
   ]
  },
  {
   "cell_type": "code",
   "execution_count": 5,
   "metadata": {},
   "outputs": [
    {
     "data": {
      "application/javascript": "\n        if (window._pyforest_update_imports_cell) { window._pyforest_update_imports_cell('import pandas as pd'); }\n    ",
      "text/plain": [
       "<IPython.core.display.Javascript object>"
      ]
     },
     "metadata": {},
     "output_type": "display_data"
    },
    {
     "data": {
      "text/html": [
       "<div>\n",
       "<style scoped>\n",
       "    .dataframe tbody tr th:only-of-type {\n",
       "        vertical-align: middle;\n",
       "    }\n",
       "\n",
       "    .dataframe tbody tr th {\n",
       "        vertical-align: top;\n",
       "    }\n",
       "\n",
       "    .dataframe thead th {\n",
       "        text-align: right;\n",
       "    }\n",
       "</style>\n",
       "<table border=\"1\" class=\"dataframe\">\n",
       "  <thead>\n",
       "    <tr style=\"text-align: right;\">\n",
       "      <th></th>\n",
       "      <th>Age</th>\n",
       "      <th>Fare</th>\n",
       "    </tr>\n",
       "  </thead>\n",
       "  <tbody>\n",
       "    <tr>\n",
       "      <th>Age</th>\n",
       "      <td>1.000000</td>\n",
       "      <td>0.337932</td>\n",
       "    </tr>\n",
       "    <tr>\n",
       "      <th>Fare</th>\n",
       "      <td>0.337932</td>\n",
       "      <td>1.000000</td>\n",
       "    </tr>\n",
       "  </tbody>\n",
       "</table>\n",
       "</div>"
      ],
      "text/plain": [
       "           Age      Fare\n",
       "Age   1.000000  0.337932\n",
       "Fare  0.337932  1.000000"
      ]
     },
     "execution_count": 5,
     "metadata": {},
     "output_type": "execute_result"
    }
   ],
   "source": [
    "dtf = pd.read_csv(\"test.csv\")\n",
    "newdtf = dtf[['Age','Fare']].dropna()\n",
    "newdtf.corr()"
   ]
  },
  {
   "cell_type": "code",
   "execution_count": 15,
   "metadata": {},
   "outputs": [
    {
     "data": {
      "text/plain": [
       "(0.2843282059680243, 3.2532115570395807e-09)"
      ]
     },
     "execution_count": 15,
     "metadata": {},
     "output_type": "execute_result"
    }
   ],
   "source": [
    "pearsonr(data1['Age'],data1['Fare'])"
   ]
  },
  {
   "cell_type": "markdown",
   "metadata": {},
   "source": [
    "**Finding Outliers in Dataset using Z**\n",
    "*criteria to identify an outlier:*\n",
    "    Data point that falls outside of 1.5 times of an interquartile range above the 3rd quartile and below the 1st quartile\n",
    "    Data point that falls outside of 3 standard deviations. we can use a z score and if the z score falls outside of 2 standard deviation\n",
    "\n",
    "*impacts of having outliers in a dataset:*\n",
    "    It causes various problems during our statistical analysis\n",
    "    It may cause a significant impact on the mean and the standard deviation\n",
    "Standard Normal Distribution , after 3rd Deviation all data are Outliers\n",
    "\n",
    "**Z score**\n",
    "Formula for Z score = (Observation — Mean)/Standard Deviation\n",
    "\n",
    "z = (X — μ) / σ\n",
    "\n",
    "**InterQuantile Range**\n",
    "75%- 25% values in a dataset\n",
    "\n",
    "Steps:\n",
    "    1. Arrange the data in increasing order\n",
    "    2. Calculate first(q1) and third quartile(q3)\n",
    "    3. Find interquartile range (q3-q1)\n",
    "    4.Find lower bound q1*1.5\n",
    "    5.Find upper bound q3*1.5\n"
   ]
  },
  {
   "cell_type": "code",
   "execution_count": 2,
   "metadata": {},
   "outputs": [
    {
     "name": "stdout",
     "output_type": "stream",
     "text": [
      "[11, 10, 12, 14, 12, 15, 14, 13, 15, 102, 12, 14, 17, 19, 107, 10, 13, 12, 14, 12, 108, 12, 11, 14, 13, 15, 10, 15, 12, 10, 14, 13, 15, 10]\n"
     ]
    }
   ],
   "source": [
    "dtset = [11,10,12,14,12,15,14,13,15,102,12,14,17,19,107, 10,13,12,14,12,108,12,11,14,13,15,10,15,12,10,14,13,15,10]\n",
    "print(dtset)"
   ]
  },
  {
   "cell_type": "code",
   "execution_count": 130,
   "metadata": {},
   "outputs": [],
   "source": [
    "outliers=[]\n",
    "def detect_outliers(data):\n",
    "    \n",
    "    threshold=3\n",
    "    mean = np.mean(data)\n",
    "    std =np.std(data)\n",
    "    \n",
    "    \n",
    "    for i in data:\n",
    "        z_score= (i - mean)/std \n",
    "        if np.abs(z_score) > threshold:\n",
    "            outliers.append(i)\n",
    "    return outliers"
   ]
  },
  {
   "cell_type": "code",
   "execution_count": 131,
   "metadata": {},
   "outputs": [
    {
     "name": "stdout",
     "output_type": "stream",
     "text": [
      "[102, 107, 108]\n"
     ]
    }
   ],
   "source": [
    "outlier_pt=detect_outliers(dtset)\n",
    "print(outlier_pt)"
   ]
  },
  {
   "cell_type": "code",
   "execution_count": 132,
   "metadata": {},
   "outputs": [
    {
     "data": {
      "text/plain": [
       "[10,\n",
       " 10,\n",
       " 10,\n",
       " 10,\n",
       " 10,\n",
       " 11,\n",
       " 11,\n",
       " 12,\n",
       " 12,\n",
       " 12,\n",
       " 12,\n",
       " 12,\n",
       " 12,\n",
       " 12,\n",
       " 13,\n",
       " 13,\n",
       " 13,\n",
       " 13,\n",
       " 14,\n",
       " 14,\n",
       " 14,\n",
       " 14,\n",
       " 14,\n",
       " 14,\n",
       " 15,\n",
       " 15,\n",
       " 15,\n",
       " 15,\n",
       " 15,\n",
       " 17,\n",
       " 19,\n",
       " 102,\n",
       " 107,\n",
       " 108]"
      ]
     },
     "execution_count": 132,
     "metadata": {},
     "output_type": "execute_result"
    }
   ],
   "source": [
    "sorted(dtset)"
   ]
  },
  {
   "cell_type": "code",
   "execution_count": 3,
   "metadata": {},
   "outputs": [
    {
     "data": {
      "application/javascript": "\n        if (window._pyforest_update_imports_cell) { window._pyforest_update_imports_cell('import numpy as np'); }\n    ",
      "text/plain": [
       "<IPython.core.display.Javascript object>"
      ]
     },
     "metadata": {},
     "output_type": "display_data"
    },
    {
     "name": "stdout",
     "output_type": "stream",
     "text": [
      "12.0 15.0\n",
      "IQR: 3.0\n",
      "[11, 10, 12, 14, 12, 15, 14, 13, 15, 102, 12, 14, 17, 19, 107, 10, 13, 12, 14, 12, 108, 12, 11, 14, 13, 15, 10, 15, 12, 10, 14, 13, 15, 10]\n"
     ]
    }
   ],
   "source": [
    "quantile1, quantile3= np.percentile(dtset,[25,75])\n",
    "print(quantile1,quantile3)\n",
    "## Find the IQR\n",
    "iqr_value=quantile3-quantile1\n",
    "print(\"IQR:\",iqr_value)\n",
    "print(dtset)"
   ]
  },
  {
   "cell_type": "code",
   "execution_count": 138,
   "metadata": {},
   "outputs": [
    {
     "name": "stdout",
     "output_type": "stream",
     "text": [
      "7.5 19.5\n"
     ]
    }
   ],
   "source": [
    "lower_bound_val = quantile1 -(1.5 * iqr_value) \n",
    "upper_bound_val = quantile3 +(1.5 * iqr_value) \n",
    "print(lower_bound_val,upper_bound_val)"
   ]
  },
  {
   "cell_type": "code",
   "execution_count": 151,
   "metadata": {},
   "outputs": [
    {
     "name": "stdout",
     "output_type": "stream",
     "text": [
      "OutLiers:  102\n",
      "OutLiers:  107\n",
      "OutLiers:  108\n"
     ]
    }
   ],
   "source": [
    "for i in dtset:\n",
    "    if(i<lower_bound_val or i>upper_bound_val):\n",
    "        print(\"OutLiers: \",i)"
   ]
  },
  {
   "cell_type": "code",
   "execution_count": 153,
   "metadata": {},
   "outputs": [
    {
     "name": "stdout",
     "output_type": "stream",
     "text": [
      "11\n",
      "10\n",
      "12\n",
      "14\n",
      "12\n",
      "15\n",
      "14\n",
      "13\n",
      "15\n",
      "12\n",
      "14\n",
      "17\n",
      "19\n",
      "10\n",
      "13\n",
      "12\n",
      "14\n",
      "12\n",
      "12\n",
      "11\n",
      "14\n",
      "13\n",
      "15\n",
      "10\n",
      "15\n",
      "12\n",
      "10\n",
      "14\n",
      "13\n",
      "15\n",
      "10\n"
     ]
    }
   ],
   "source": [
    "#Without Outliers\n",
    "for i in dtset:\n",
    "    if(i>lower_bound_val and i<upper_bound_val):\n",
    "        print(i)"
   ]
  }
 ],
 "metadata": {
  "interpreter": {
   "hash": "26de051ba29f2982a8de78e945f0abaf191376122a1563185a90213a26c5da77"
  },
  "kernelspec": {
   "display_name": "Python 3.10.4 64-bit",
   "language": "python",
   "name": "python3"
  },
  "language_info": {
   "codemirror_mode": {
    "name": "ipython",
    "version": 3
   },
   "file_extension": ".py",
   "mimetype": "text/x-python",
   "name": "python",
   "nbconvert_exporter": "python",
   "pygments_lexer": "ipython3",
   "version": "3.10.4"
  },
  "orig_nbformat": 4
 },
 "nbformat": 4,
 "nbformat_minor": 2
}
